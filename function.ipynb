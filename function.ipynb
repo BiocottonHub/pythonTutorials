{
 "metadata": {
  "language_info": {
   "codemirror_mode": {
    "name": "ipython",
    "version": 3
   },
   "file_extension": ".py",
   "mimetype": "text/x-python",
   "name": "python",
   "nbconvert_exporter": "python",
   "pygments_lexer": "ipython3",
   "version": "3.8.5-final"
  },
  "orig_nbformat": 2,
  "kernelspec": {
   "name": "python385jvsc74a57bd0a1295d3cf012a09ef35b467b4f2a38aa2d3d430ca098dd682d3045800beae05e",
   "display_name": "Python 3.8.5 64-bit ('suppa': conda)"
  },
  "metadata": {
   "interpreter": {
    "hash": "a1295d3cf012a09ef35b467b4f2a38aa2d3d430ca098dd682d3045800beae05e"
   }
  }
 },
 "nbformat": 4,
 "nbformat_minor": 2,
 "cells": [
  {
   "source": [
    "### python中的装饰器\n",
    "> python中的装饰器类似的就是一个闭包的概念，在函数体内再嵌套一个子函数；这个子函数能够访问外部函数体的变量；而在全局空间内无法访问到该嵌套函数\n",
    "> \n",
    "> 装饰器通过定义好内部的嵌套逻辑，将需要进行装饰函数的地址为装饰器函数的输入；经过装饰内部嵌套函数的修改后，返回装饰后的函数"
   ],
   "cell_type": "markdown",
   "metadata": {}
  },
  {
   "cell_type": "code",
   "execution_count": 12,
   "metadata": {},
   "outputs": [
    {
     "output_type": "stream",
     "name": "stdout",
     "text": [
      "3\n"
     ]
    },
    {
     "output_type": "error",
     "ename": "NameError",
     "evalue": "name 'inner' is not defined",
     "traceback": [
      "\u001b[0;31m---------------------------------------------------------------------------\u001b[0m",
      "\u001b[0;31mNameError\u001b[0m                                 Traceback (most recent call last)",
      "\u001b[0;32m<ipython-input-12-3398d4900ea1>\u001b[0m in \u001b[0;36m<module>\u001b[0;34m\u001b[0m\n\u001b[1;32m      7\u001b[0m \u001b[0mprint\u001b[0m\u001b[0;34m(\u001b[0m\u001b[0mouter\u001b[0m\u001b[0;34m(\u001b[0m\u001b[0;36m2\u001b[0m\u001b[0;34m)\u001b[0m\u001b[0;34m(\u001b[0m\u001b[0;34m)\u001b[0m\u001b[0;34m)\u001b[0m\u001b[0;34m\u001b[0m\u001b[0;34m\u001b[0m\u001b[0m\n\u001b[1;32m      8\u001b[0m \u001b[0;31m##全局空间无法调用嵌套的内部函数\u001b[0m\u001b[0;34m\u001b[0m\u001b[0;34m\u001b[0m\u001b[0;34m\u001b[0m\u001b[0m\n\u001b[0;32m----> 9\u001b[0;31m \u001b[0minner\u001b[0m\u001b[0;34m(\u001b[0m\u001b[0;34m)\u001b[0m\u001b[0;34m\u001b[0m\u001b[0;34m\u001b[0m\u001b[0m\n\u001b[0m",
      "\u001b[0;31mNameError\u001b[0m: name 'inner' is not defined"
     ]
    }
   ],
   "source": [
    "## 闭包概念\n",
    "def outer(x):\n",
    "    y=1\n",
    "    def inner():\n",
    "        return (x+y)\n",
    "    return inner\n",
    "##调用内部的嵌套函数\n",
    "print(outer(2)()) \n",
    "##!全局空间无法调用嵌套的内部函数\n",
    "inner()"
   ]
  },
  {
   "cell_type": "code",
   "execution_count": 13,
   "metadata": {},
   "outputs": [
    {
     "output_type": "execute_result",
     "data": {
      "text/plain": [
       "'warpper decorate funtion.'"
      ]
     },
     "metadata": {},
     "execution_count": 13
    }
   ],
   "source": [
    "##使用python中的装饰器\n",
    "def demon(func):\n",
    "    def warpper():\n",
    "        return \"warpper {}\".format(func())\n",
    "    return warpper\n",
    "@demon\n",
    "def test_warpper():\n",
    "    return \"decorate funtion.\"\n",
    "##测试装饰器\n",
    "test_warpper()    "
   ]
  },
  {
   "cell_type": "code",
   "execution_count": 18,
   "metadata": {},
   "outputs": [
    {
     "output_type": "stream",
     "name": "stdout",
     "text": [
      "[info]: enter\nhello\n"
     ]
    }
   ],
   "source": [
    "##装饰器中也可以传入参数\n",
    "def logging(level):\n",
    "    ##为了传入level参数\n",
    "  def outerWrapper(func):\n",
    "    def wrapper(*args,**kwargs):\n",
    "        print(\"[{0}]: enter\".format(level))\n",
    "        ##返回被装饰函数得到的结果\n",
    "        return func()\n",
    "    return wrapper\n",
    "  return outerWrapper\n",
    "\n",
    "@logging(level=\"info\")\n",
    "def test():\n",
    "    print(\"hello\")\n",
    "test()\n"
   ]
  }
 ]
}