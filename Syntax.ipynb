{
 "metadata": {
  "language_info": {
   "codemirror_mode": {
    "name": "ipython",
    "version": 3
   },
   "file_extension": ".py",
   "mimetype": "text/x-python",
   "name": "python",
   "nbconvert_exporter": "python",
   "pygments_lexer": "ipython3",
   "version": "3.6.5"
  },
  "orig_nbformat": 2,
  "kernelspec": {
   "name": "python385jvsc74a57bd0d26b35824005680ae1ed72b2273d788799ad67118142d93edab757e606240735",
   "display_name": "SoS",
   "language": "sos"
  },
  "metadata": {
   "interpreter": {
    "hash": "d26b35824005680ae1ed72b2273d788799ad67118142d93edab757e606240735"
   }
  }
 },
 "nbformat": 4,
 "nbformat_minor": 2,
 "cells": [
  {
   "source": [
    "#### 运行第一个Python程序\n",
    "\n",
    "> 使用print函数打印字符串\n",
    "> + `end`参数可以指定输出时的换行符，默认情况为`\\n`\n",
    "> + `sep`参数,当print函数接受多个字符串或者变量时，使用`sep`指定变量间的分隔符,默认以空格进行分割。\n"
   ],
   "cell_type": "markdown",
   "metadata": {}
  },
  {
   "cell_type": "code",
   "execution_count": 6,
   "metadata": {},
   "outputs": [
    {
     "output_type": "stream",
     "name": "stdout",
     "text": [
      "Hello, Python!\nHello, Python!end\n#####################\nVariant1\tVariant2\n"
     ]
    }
   ],
   "source": [
    "print(\"Hello, Python!\")\n",
    "#改变换行符\n",
    "print(\"Hello, Python!\",end=\"end\")\n",
    "#改变分隔符\n",
    "print(\"\\n#####################\")\n",
    "print(\"Variant1\",\"Variant2\",sep=\"\\t\")\n"
   ]
  },
  {
   "source": [
    "### 数据类型\n",
    "+ 字符串 `str`\n",
    "+ 整型 `int`\n",
    "+ 浮点型 `float`\n",
    "+ 列表 `list`\n",
    "+ 元组 `tuple`\n",
    "+ 集合 `set`\n",
    "+ 字典 `dict`\n",
    "\n",
    "变量数据类型的定义既可以使用特点的符号也可以使用对应的关键字函数；使用`type`函数查看一个变量的数据类型。\n",
    "\n",
    "\n",
    "\n"
   ],
   "cell_type": "markdown",
   "metadata": {}
  },
  {
   "cell_type": "code",
   "execution_count": 1,
   "metadata": {},
   "outputs": [
    {
     "output_type": "stream",
     "name": "stdout",
     "text": [
      "<class 'int'>\n<class 'int'>\n<class 'str'>\n<class 'tuple'>\n"
     ]
    }
   ],
   "source": [
    "#这是整数类型,int(1)\n",
    "intVariant=1\n",
    "#浮点数类型,float(1)\n",
    "floatVariant=1\n",
    "#字符串类型\n",
    "strVariant='hello'\n",
    "#列表,list('hello','python')\n",
    "listVariant=['hello','python']\n",
    "#元组 tuple('hello','python')\n",
    "tupleVariant=('hello','python')\n",
    "#集合 set(['hello','python'])\n",
    "setVariant={'hello','python'}\n",
    "#字典 dict(key1='hello',key2='python') \n",
    "dictVariant={'key1':'hello',\"key2\":'python'}\n",
    "\n",
    "##查看数据类型\n",
    "print(type(intVariant))\n",
    "print(type(floatVariant))\n",
    "print(type(strVariant))\n",
    "print(type(tupleVariant))\n"
   ]
  },
  {
   "cell_type": "code",
   "execution_count": null,
   "metadata": {},
   "outputs": [],
   "source": []
  }
 ]
}