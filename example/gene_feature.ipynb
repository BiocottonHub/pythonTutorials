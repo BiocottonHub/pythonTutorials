{
 "metadata": {
  "language_info": {
   "codemirror_mode": {
    "name": "ipython",
    "version": 3
   },
   "file_extension": ".py",
   "mimetype": "text/x-python",
   "name": "python",
   "nbconvert_exporter": "python",
   "pygments_lexer": "ipython3",
   "version": "3.7.7-final"
  },
  "orig_nbformat": 2,
  "kernelspec": {
   "name": "python377jvsc74a57bd0318ad115214a4af8ad6e18cfd3e37d64f0b71b2b9c6fe5b42ddec07479e8947a",
   "display_name": "Python 3.7.7 64-bit ('base': conda)"
  },
  "metadata": {
   "interpreter": {
    "hash": "318ad115214a4af8ad6e18cfd3e37d64f0b71b2b9c6fe5b42ddec07479e8947a"
   }
  }
 },
 "nbformat": 4,
 "nbformat_minor": 2,
 "cells": [
  {
   "cell_type": "code",
   "execution_count": 1,
   "metadata": {},
   "outputs": [],
   "source": [
    "import pandas as pd\n",
    "import pybedtools \n",
    "#! read gff file\n",
    "Gh_gff=\"/public/home/jqyou/data/genome_Ghir.HAU/Ghirsutum_gene_model.gff3\"\n",
    "Chromsome_length='/data/cotton/zhenpingliu/jqyou/TM1_chr_length.txt'\n",
    "Gh_DataFrame=pd.read_csv(Gh_gff,comment=\"#\",index_col=None,sep=\"\\t\",header=None)\n",
    "def getFeature_from_gff3(gffDataFrame:pd.DataFrame,featureName:str):\n",
    "    '''\n",
    "    get location of genome features, such gene body、Intergenic、promoter、UTR 、exon and intron\n",
    "    args:\n",
    "      - gffFileName: @pd.DataFrame\n",
    "      - featureName: @str(gene、mRNA)\n",
    "    return:\n",
    "        list: @str interval of feature\n",
    "    '''\n",
    "    tmp=Gh_DataFrame.loc[gffDataFrame[2]==featureName]\n",
    "    if featureName in [\"exon\",\"intron\",\"three_prime_UTR\",\"five_prime_UTR\",\"mRNA\"]:\n",
    "        tmp[8]=tmp[8].apply(lambda x:x.strip(\";\").split(\";\")[-1].strip(\"Parent=\"))\n",
    "    else:\n",
    "        tmp[8]=tmp[8].apply(lambda x:x.strip(\";\").split(\";\")[0].strip(\"ID=\"))\n",
    "    ###! get string of interval    \n",
    "    OutStr=\"\\n\".join(tmp.apply(lambda x:x[0]+\"\\t\"+str(x[3])+\"\\t\"+str(x[4])+\"\\t\"+x[8]+\"\\t\"+x[6]+\"\\t\"+featureName,axis=1).values)\n",
    "    return pybedtools.BedTool(OutStr,from_string=True)\n",
    "    \n",
    "\n",
    "    "
   ]
  },
  {
   "cell_type": "code",
   "execution_count": 2,
   "metadata": {},
   "outputs": [],
   "source": [
    "###################################\n",
    "# set the feature \n",
    "###################################\n",
    "geneFeature=getFeature_from_gff3(Gh_DataFrame,'gene')\n",
    "mRNAFeature=getFeature_from_gff3(Gh_DataFrame,'mRNA')\n",
    "exonFeature=getFeature_from_gff3(Gh_DataFrame,'exon')\n",
    "UTR_5=getFeature_from_gff3(Gh_DataFrame,'five_prime_UTR')\n",
    "UTR_3=getFeature_from_gff3(Gh_DataFrame,'three_prime_UTR')\n"
   ]
  },
  {
   "cell_type": "code",
   "execution_count": 36,
   "metadata": {},
   "outputs": [],
   "source": [
    "######genome length File\n",
    "!cut -f1,2 /public/home/jqyou/data/genome_Ghir.HAU/Ghirsutum_genome.fasta.fai >/data/cotton/zhenpingliu/jqyou/TM1_chr_length.txt \n",
    "!cut -f1,2  /public/home/jqyou/data/genome_Garb.HAU/Lachesis_assembly_changed.fa.fai >/data/cotton/zhenpingliu/jqyou/Garb.HAU_chr_length.txt\n",
    "!cut -f1,2 /public/home/jqyou/data/genome_Grai.HAU/Lachesis_assembly_changed.fa.fai >/data/cotton/zhenpingliu/jqyou/Grai.HAU_chr_length.txt\n"
   ]
  },
  {
   "cell_type": "code",
   "execution_count": 111,
   "metadata": {},
   "outputs": [
    {
     "output_type": "stream",
     "name": "stdout",
     "text": [
      "Ghir_A01\t80321912\t80323913\tGhir_A01G013980\t+\tgene\n Ghir_A01\t80324566\t80326567\tGhir_A01G013980\t+\tgene\n Ghir_A01\t80320151\t80322152\tGhir_A01G013970\t+\tgene\n Ghir_A01\t80323048\t80325049\tGhir_A01G013970\t+\tgene\n Ghir_A01\t60751986\t60753987\tGhir_A01G013100\t+\tgene\n Ghir_A01\t60754357\t60756358\tGhir_A01G013100\t+\tgene\n Ghir_A01\t59978269\t59980270\tGhir_A01G013050\t+\tgene\n Ghir_A01\t59983471\t59985472\tGhir_A01G013050\t+\tgene\n Ghir_A01\t59138876\t59140877\tGhir_A01G013020\t+\tgene\n Ghir_A01\t59148861\t59150862\tGhir_A01G013020\t+\tgene\n "
     ]
    }
   ],
   "source": [
    "geneFeature.flank(g=Chromsome_length,b=2001).head()"
   ]
  },
  {
   "cell_type": "code",
   "execution_count": 3,
   "metadata": {
    "tags": []
   },
   "outputs": [
    {
     "output_type": "stream",
     "name": "stdout",
     "text": [
      "Ghir_A01\t80321913\t80323912\tGhir_A01G013980*+;\tPromter\n Ghir_A01\t80320152\t80322151\tGhir_A01G013970*+;\tPromter\n Ghir_A01\t60751987\t60753986\tGhir_A01G013100*+;\tPromter\n Ghir_A01\t59978270\t59980269\tGhir_A01G013050*+;\tPromter\n Ghir_A01\t59138877\t59140876\tGhir_A01G013020*+;\tPromter\n Ghir_A01\t60292264\t60294263\tGhir_A01G013060*+;\tPromter\n Ghir_A01\t60762363\t60764362\tGhir_A01G013140*+;\tPromter\n Ghir_A01\t60758891\t60760890\tGhir_A01G013130*-;\tPromter\n Ghir_A01\t61799375\t61801374\tGhir_A01G013160*-;\tPromter\n Ghir_A01\t58484311\t58486310\tGhir_A01G013000*+;\tPromter\n "
     ]
    }
   ],
   "source": [
    "###############################################\n",
    "# get promoter region\n",
    "# according gene region extract promoter region\n",
    "###############################################\n",
    "promoterInterValStr=[]\n",
    "for index,flankItem in enumerate(geneFeature.flank(g=Chromsome_length,b=2000)):\n",
    "    if flankItem[4]==\"+\" and index %2==0:\n",
    "        tmp=flankItem[2]\n",
    "        flankItem[2]=int(tmp)-1\n",
    "        promoterInterValStr.append(\"\\t\".join(flankItem[0:-2])+\"*\"+flankItem[-2]+\";\\tPromter\")\n",
    "    elif flankItem[4]==\"-\" and index %2!=0:\n",
    "        tmp=flankItem[1]\n",
    "        flankItem[1]=int(tmp)+1\n",
    "        promoterInterValStr.append(\"\\t\".join(flankItem[0:-2])+\"*\"+flankItem[-2]+\";\\tPromter\")\n",
    "##promoter Bedtools region        \n",
    "promoterInterValStr=pybedtools.BedTool(\"\\n\".join(promoterInterValStr),from_string=True)\n",
    "promoterInterValStr.saveas(\"/data/cotton/zhenpingliu/jqyou/TM1_Promoter.bed\")\n",
    "promoterInterValStr.head()        "
   ]
  },
  {
   "cell_type": "code",
   "execution_count": 38,
   "metadata": {},
   "outputs": [
    {
     "output_type": "stream",
     "name": "stderr",
     "text": [
      "***** WARNING: Scaffold1357:75231-79187 exceeds the length of chromosome (Scaffold1357)\n"
     ]
    },
    {
     "output_type": "execute_result",
     "data": {
      "text/plain": [
       "<BedTool(/data/cotton/zhenpingliu/jqyou/TM1_Intergenic.bed)>"
      ]
     },
     "metadata": {},
     "execution_count": 38
    }
   ],
   "source": [
    "###################################################\n",
    "# get Intergenic region \n",
    "# with tem file to get gene region and promoter region\n",
    "###################################################\n",
    "from tempfile import NamedTemporaryFile\n",
    "gene_promoter=NamedTemporaryFile(mode='w+t',encoding='utf-8')\n",
    "for line in geneFeature:\n",
    "    #write gene to tmp file\n",
    "    gene_promoter.write(\"\\t\".join(line)+\"\\n\")\n",
    "for line in promoterInterValStr:\n",
    "    # write promoter to tmp file\n",
    "    gene_promoter.write(\"\\t\".join(line)+\"\\n\")\n",
    "\n",
    "mregeInterval=pybedtools.BedTool(gene_promoter.name)\n",
    "#merge gene and promoter region\n",
    "#! bed must be sort \n",
    "mregeInterval=mregeInterval.sort().merge()\n",
    "#!complement with the genome length file\n",
    "#!genome file name variant TM1\n",
    "Intergenic=mregeInterval.complement(g=Chromsome_length)\n",
    "Intergenic.saveas(\"/data/cotton/zhenpingliu/jqyou/TM1_Intergenic.bed\")\n",
    "\n"
   ]
  },
  {
   "cell_type": "code",
   "execution_count": 51,
   "metadata": {
    "tags": []
   },
   "outputs": [
    {
     "output_type": "execute_result",
     "data": {
      "text/plain": [
       "<BedTool(/data/cotton/zhenpingliu/jqyou/TM1_3UTR.bed)>"
      ]
     },
     "metadata": {},
     "execution_count": 51
    }
   ],
   "source": [
    "########################################\n",
    "# get Five 5_UTR region\n",
    "########################################\n",
    "mrege5_UTR=UTR_5.sort().merge()\n",
    "########################################\n",
    "# get three_UTR\n",
    "# substract the 5UTR\n",
    "########################################\n",
    "merge3_UTR=UTR_3.sort().merge()\n",
    "merge3_UTR=merge3_UTR.subtract(mrege5_UTR)"
   ]
  },
  {
   "cell_type": "code",
   "execution_count": 83,
   "metadata": {},
   "outputs": [
    {
     "output_type": "execute_result",
     "data": {
      "text/plain": [
       "<BedTool(/data/cotton/zhenpingliu/jqyou/TM1_intron.bed)>"
      ]
     },
     "metadata": {},
     "execution_count": 83
    }
   ],
   "source": [
    "#########################################\n",
    "# get exon region\n",
    "# 1.merge 3UT and 5UTR\n",
    "# exon subtract 3UTR and 5UTR\n",
    "#########################################\n",
    "UTR_region=NamedTemporaryFile(mode='w+t',encoding='utf-8')\n",
    "for line in mrege5_UTR:\n",
    "    #write gene to tmp file\n",
    "    UTR_region.write(\"\\t\".join(line)+\"\\n\")\n",
    "for line in merge3_UTR:\n",
    "    # write promoter to tmp file\n",
    "    UTR_region.write(\"\\t\".join(line)+\"\\n\")\n",
    "UTRInterval=pybedtools.BedTool(UTR_region.name) \n",
    "UTRInterval=UTRInterval.sort().merge()\n",
    "#! substract UTR region\n",
    "# print(exonFeature[25203])\n",
    "exon_Interval=exonFeature.sort().merge().subtract(UTRInterval)\n",
    "#############################\n",
    "# intron interval\n",
    "# gene  substract exon and UTR\n",
    "#############################\n",
    "complement_intron=NamedTemporaryFile(mode='w+t',encoding='utf-8')\n",
    "for line in UTRInterval:\n",
    "    #write gene to tmp file\n",
    "    complement_intron.write(\"\\t\".join(line)+\"\\n\")\n",
    "for line in exon_Interval:\n",
    "    # write promoter to tmp file\n",
    "    complement_intron.write(\"\\t\".join(line)+\"\\n\")\n",
    "\n",
    "complement_intron_Interval=pybedtools.BedTool(complement_intron.name) \n",
    "complement_intron_Interval=complement_intron_Interval.sort().merge()\n",
    "\n",
    "intron_Interval=geneFeature.subtract(complement_intron_Interval)\n",
    "# intron_Interval.saveas(\"/data/cotton/zhenpingliu/jqyou/TM1_intron.bed\")"
   ]
  },
  {
   "cell_type": "code",
   "execution_count": 124,
   "metadata": {},
   "outputs": [
    {
     "output_type": "execute_result",
     "data": {
      "text/plain": [
       "<BedTool(/data/cotton/zhenpingliu/jqyou/TM1_intron.bed)>"
      ]
     },
     "metadata": {},
     "execution_count": 124
    }
   ],
   "source": [
    "######################################################\n",
    "#get gene ID and stand bo intersect with gene Feature\n",
    "# mrege5_UTR\n",
    "# mrege3_UTR\n",
    "# exon_Interval\n",
    "# intron_Interval\n",
    "#####################################################\n",
    "# mrege5_UTR.saveas(\"/data/cotton/zhenpingliu/jqyou/TM1_5UTR.bed\")\n",
    "Interset_interval=mrege5_UTR.intersect(geneFeature,loj=True)\n",
    "UTR5_dict={}\n",
    "for Interval in Interset_interval:\n",
    "    UTR5_dict[\"\\t\".join(Interval[0:3])]=UTR5_dict.get(\"\\t\".join(Interval[0:3]),'')+\"*\".join(Interval[6:8])+\";\"\n",
    "UTR5_str=[ key+\"\\t\"+value+\"\\t5UTR\" for key,value in UTR5_dict.items()]\n",
    "##save to txt \n",
    "pybedtools.BedTool(\"\\n\".join(UTR5_str),from_string=True).saveas(\"/data/cotton/zhenpingliu/jqyou/TM1_5UTR.bed\")\n",
    "##########################################################\n",
    "#3UTR\n",
    "Interset_interval=merge3_UTR.intersect(geneFeature,loj=True)\n",
    "UTR5_dict={}\n",
    "for Interval in Interset_interval:\n",
    "    UTR5_dict[\"\\t\".join(Interval[0:3])]=UTR5_dict.get(\"\\t\".join(Interval[0:3]),'')+\"*\".join(Interval[6:8])+\";\"\n",
    "UTR5_str=[ key+\"\\t\"+value+\"\\t3UTR\" for key,value in UTR5_dict.items()]\n",
    "##save to txt \n",
    "pybedtools.BedTool(\"\\n\".join(UTR5_str),from_string=True).saveas(\"/data/cotton/zhenpingliu/jqyou/TM1_3UTR.bed\")\n",
    "##########################################################\n",
    "#! exon interval\n",
    "Interset_interval=exon_Interval.intersect(geneFeature,loj=True)\n",
    "UTR5_dict={}\n",
    "for Interval in Interset_interval:\n",
    "    UTR5_dict[\"\\t\".join(Interval[0:3])]=UTR5_dict.get(\"\\t\".join(Interval[0:3]),'')+\"*\".join(Interval[6:8])+\";\"\n",
    "UTR5_str=[ key+\"\\t\"+value+\"\\texon\" for key,value in UTR5_dict.items()]\n",
    "##save to txt \n",
    "pybedtools.BedTool(\"\\n\".join(UTR5_str),from_string=True).saveas(\"/data/cotton/zhenpingliu/jqyou/TM1_exon.bed\")\n",
    "##########################################################\n",
    "#! intron interval\n",
    "Interset_interval=intron_Interval.intersect(geneFeature,loj=True)\n",
    "UTR5_dict={}\n",
    "for Interval in Interset_interval:\n",
    "    UTR5_dict[\"\\t\".join(Interval[0:3])]=UTR5_dict.get(\"\\t\".join(Interval[0:3]),'')+\"*\".join(Interval[9:11])+\";\"\n",
    "UTR5_str=[ key+\"\\t\"+value+\"\\tintron\" for key,value in UTR5_dict.items()]\n",
    "##save to txt \n",
    "pybedtools.BedTool(\"\\n\".join(UTR5_str),from_string=True).saveas(\"/data/cotton/zhenpingliu/jqyou/TM1_intron.bed\")\n",
    "# 'Ghir_A01\\t6687352\\t6687761'\n"
   ]
  },
  {
   "cell_type": "code",
   "execution_count": 5,
   "metadata": {},
   "outputs": [],
   "source": [
    "#################################################\n",
    "# not intersect with each other\n",
    "# merge all the file\n",
    "# pandas sort it \n",
    "#################################################\n",
    "# cat TM1_Promoter.bed TM1_exon.bed  TM1_intron.bed TM1_5UTR.bed TM1_3UTR.bed|sort -k1,1 -k2,2n >TM1_gene_info.txt\n",
    "geneData=pd.read_csv(\"/data/cotton/zhenpingliu/jqyou/TM1_gene_info.txt\",header=None,index_col=None,sep=\"\\t\")\n"
   ]
  },
  {
   "cell_type": "code",
   "execution_count": 6,
   "metadata": {},
   "outputs": [
    {
     "output_type": "stream",
     "name": "stdout",
     "text": [
      "100000\n",
      "200000\n",
      "300000\n",
      "400000\n",
      "500000\n",
      "600000\n",
      "700000\n",
      "800000\n"
     ]
    }
   ],
   "source": [
    "for lineindex in range(1,geneData.shape[0],1):\n",
    "    #!skip the first line \n",
    "    if lineindex%100000==0:\n",
    "        print(lineindex)\n",
    "    if geneData.iloc[lineindex][1]==geneData.iloc[lineindex-1][2]:\n",
    "        geneData.iloc[lineindex-1][2]=geneData.iloc[lineindex-1][2]-1\n",
    "\n",
    "geneData.to_csv(\"/data/cotton/zhenpingliu/jqyou/TM1_gene_info.txt\",header=False,index=False,sep=\"\\t\")\n",
    " \n"
   ]
  }
 ]
}